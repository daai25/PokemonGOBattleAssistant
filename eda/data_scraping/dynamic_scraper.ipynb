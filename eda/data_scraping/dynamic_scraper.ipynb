{
 "cells": [
  {
   "cell_type": "markdown",
   "id": "696bac68",
   "metadata": {},
   "source": [
    "# Import"
   ]
  },
  {
   "cell_type": "code",
   "execution_count": 1,
   "id": "fd040ffa",
   "metadata": {},
   "outputs": [],
   "source": [
    "from selenium import webdriver\n",
    "from bs4 import BeautifulSoup\n",
    "import time\n",
    "import json"
   ]
  },
  {
   "cell_type": "markdown",
   "id": "a42e9f3c",
   "metadata": {},
   "source": [
    "# Scraping Name and Score"
   ]
  },
  {
   "cell_type": "markdown",
   "id": "da8c85d4",
   "metadata": {},
   "source": [
    "Scraping name and score from the website https://pvpoke.com/rankings/. <br>\n",
    "Store Data in raw_data/pokemon_name_rank.json. "
   ]
  },
  {
   "cell_type": "code",
   "execution_count": 2,
   "id": "0763d241",
   "metadata": {},
   "outputs": [],
   "source": [
    "def scrape_rankings_names_scores_to_json():\n",
    "    # Set up the Selenium WebDriver\n",
    "    driver = webdriver.Chrome()\n",
    "\n",
    "    try:\n",
    "        # Navigate to the rankings page\n",
    "        url = 'https://pvpoke.com/rankings/'\n",
    "        driver.get(url)\n",
    "\n",
    "        # Wait for the page to load completely\n",
    "        time.sleep(15)\n",
    "\n",
    "        # Get the page source and parse it with BeautifulSoup\n",
    "        html = driver.page_source\n",
    "        soup = BeautifulSoup(html, 'html.parser')\n",
    "\n",
    "        # Extract Pokémon rankings data\n",
    "        pokemon_blocks = soup.find_all('div', class_='rank')\n",
    "        data = []\n",
    "\n",
    "        for pokemon in pokemon_blocks:\n",
    "            name = pokemon.find('span', class_='name').text if pokemon.find('span', class_='name') else \"No name\"\n",
    "            score = pokemon.find('div', class_='rating score-rating').text if pokemon.find('div', class_='rating score-rating') else \"No score\"\n",
    "\n",
    "            data.append({\"name\": name, \"score\": score})\n",
    "\n",
    "        # Filter out entries with 'No score'\n",
    "        data = [entry for entry in data if entry['score'] != \"No score\"]\n",
    "\n",
    "        # Save data to a JSON file in the raw_data folder\n",
    "        output_path = 'raw_data/pokemon_name_rank.json'\n",
    "        with open(output_path, 'w') as f:\n",
    "            json.dump(data, f, indent=4)\n",
    "\n",
    "        print(f\"Data has been saved to {output_path}\")\n",
    "\n",
    "    finally:\n",
    "        # Quit the driver\n",
    "        driver.quit()"
   ]
  },
  {
   "cell_type": "code",
   "execution_count": 3,
   "id": "ef1a7386",
   "metadata": {},
   "outputs": [
    {
     "name": "stdout",
     "output_type": "stream",
     "text": [
      "Data has been saved to raw_data/pokemon_name_rank.json\n"
     ]
    }
   ],
   "source": [
    "# Call the function\n",
    "scrape_rankings_names_scores_to_json()"
   ]
  },
  {
   "cell_type": "code",
   "execution_count": 6,
   "id": "4c9ff833",
   "metadata": {},
   "outputs": [
    {
     "name": "stdout",
     "output_type": "stream",
     "text": [
      "{'name': 'Clodsire', 'score': '94.4', 'url': 'https://pvpoke.com/rankings/all/1500/overall/clodsire/', 'stats': {'Attack': None, 'Defense': None, 'HP': None, 'Stat Product': None}, 'moves': {'num_fast_moves': 0, 'num_charge_moves': 0}}\n",
      "{'name': 'Diggersby', 'score': '93.6', 'url': 'https://pvpoke.com/rankings/all/1500/overall/diggersby/', 'stats': {'Attack': None, 'Defense': None, 'HP': None, 'Stat Product': None}, 'moves': {'num_fast_moves': 0, 'num_charge_moves': 0}}\n",
      "{'name': 'Diggersby', 'score': '93.6', 'url': 'https://pvpoke.com/rankings/all/1500/overall/diggersby/', 'stats': {'Attack': None, 'Defense': None, 'HP': None, 'Stat Product': None}, 'moves': {'num_fast_moves': 0, 'num_charge_moves': 0}}\n",
      "{'name': 'Forretress', 'score': '93.6', 'url': 'https://pvpoke.com/rankings/all/1500/overall/forretress/', 'stats': {'Attack': None, 'Defense': None, 'HP': None, 'Stat Product': None}, 'moves': {'num_fast_moves': 0, 'num_charge_moves': 0}}\n",
      "{'name': 'Forretress', 'score': '93.6', 'url': 'https://pvpoke.com/rankings/all/1500/overall/forretress/', 'stats': {'Attack': None, 'Defense': None, 'HP': None, 'Stat Product': None}, 'moves': {'num_fast_moves': 0, 'num_charge_moves': 0}}\n"
     ]
    },
    {
     "ename": "KeyboardInterrupt",
     "evalue": "",
     "output_type": "error",
     "traceback": [
      "\u001b[1;31m---------------------------------------------------------------------------\u001b[0m",
      "\u001b[1;31mKeyboardInterrupt\u001b[0m                         Traceback (most recent call last)",
      "Cell \u001b[1;32mIn[6], line 59\u001b[0m\n\u001b[0;32m     56\u001b[0m     \u001b[38;5;28mprint\u001b[39m(\u001b[38;5;124m\"\u001b[39m\u001b[38;5;124mStats and moves have been saved to raw_data/pokemon_stats_and_moves.json\u001b[39m\u001b[38;5;124m\"\u001b[39m)\n\u001b[0;32m     58\u001b[0m \u001b[38;5;66;03m# Call the function\u001b[39;00m\n\u001b[1;32m---> 59\u001b[0m \u001b[43mget_pokemon_stats_and_moves\u001b[49m\u001b[43m(\u001b[49m\u001b[43m)\u001b[49m\n",
      "Cell \u001b[1;32mIn[6], line 14\u001b[0m, in \u001b[0;36mget_pokemon_stats_and_moves\u001b[1;34m()\u001b[0m\n\u001b[0;32m     12\u001b[0m \u001b[38;5;28;01mtry\u001b[39;00m:\n\u001b[0;32m     13\u001b[0m     driver\u001b[38;5;241m.\u001b[39mget(url)\n\u001b[1;32m---> 14\u001b[0m     \u001b[43mtime\u001b[49m\u001b[38;5;241;43m.\u001b[39;49m\u001b[43msleep\u001b[49m\u001b[43m(\u001b[49m\u001b[38;5;241;43m8\u001b[39;49m\u001b[43m)\u001b[49m\n\u001b[0;32m     15\u001b[0m     html \u001b[38;5;241m=\u001b[39m driver\u001b[38;5;241m.\u001b[39mpage_source\n\u001b[0;32m     16\u001b[0m     soup \u001b[38;5;241m=\u001b[39m BeautifulSoup(html, \u001b[38;5;124m'\u001b[39m\u001b[38;5;124mhtml.parser\u001b[39m\u001b[38;5;124m'\u001b[39m)\n",
      "\u001b[1;31mKeyboardInterrupt\u001b[0m: "
     ]
    }
   ],
   "source": [
    "def get_pokemon_stats_and_moves():\n",
    "    # Load the names from the JSON file\n",
    "    with open('raw_data/pokemon_name_rank.json', 'r') as f:\n",
    "        pokemon_data = json.load(f)\n",
    "\n",
    "    results = []\n",
    "    for entry in pokemon_data:\n",
    "        name = entry['name'].replace(' ', '_').replace('.', '').replace(\"'\", '').lower()\n",
    "        url = f'https://pvpoke.com/rankings/all/1500/overall/{name}/'\n",
    "\n",
    "        driver = webdriver.Chrome()\n",
    "        try:\n",
    "            driver.get(url)\n",
    "            time.sleep(8)\n",
    "            html = driver.page_source\n",
    "            soup = BeautifulSoup(html, 'html.parser')\n",
    "\n",
    "            # Get stats\n",
    "            stats_block = soup.find('div', class_='stat-block')\n",
    "            stats = {}\n",
    "            if stats_block:\n",
    "                for stat in stats_block.find_all('div', class_='stat'):\n",
    "                    stat_name = stat.find('span', class_='label').text.strip()\n",
    "                    stat_value = stat.find('span', class_='value').text.strip()\n",
    "                    stats[stat_name] = stat_value\n",
    "\n",
    "            # Get moves\n",
    "            fast_moves = soup.find('div', id='fast-moves')\n",
    "            charge_moves = soup.find('div', id='charge-moves')\n",
    "            num_fast_moves = len(fast_moves.find_all('div', class_='move')) if fast_moves else 0\n",
    "            num_charge_moves = len(charge_moves.find_all('div', class_='move')) if charge_moves else 0\n",
    "\n",
    "            results.append({\n",
    "                'name': entry['name'],\n",
    "                'score': entry['score'],\n",
    "                'url': url,\n",
    "                'stats': {\n",
    "                    'Attack': stats.get('Attack', None),\n",
    "                    'Defense': stats.get('Defense', None),\n",
    "                    'HP': stats.get('HP', None),\n",
    "                    'Stat Product': stats.get('Stat Product', None)\n",
    "                },\n",
    "                'moves': {\n",
    "                    'num_fast_moves': num_fast_moves,\n",
    "                    'num_charge_moves': num_charge_moves\n",
    "                }\n",
    "            })\n",
    "            print(results[-1])\n",
    "        finally:\n",
    "            driver.quit()\n",
    "\n",
    "    # Save results\n",
    "    with open('raw_data/pokemon_stats_and_moves.json', 'w') as f:\n",
    "        json.dump(results, f, indent=4)\n",
    "\n",
    "    print(\"Stats and moves have been saved to raw_data/pokemon_stats_and_moves.json\")\n",
    "\n",
    "# Call the function\n",
    "get_pokemon_stats_and_moves()"
   ]
  }
 ],
 "metadata": {
  "kernelspec": {
   "display_name": "sample",
   "language": "python",
   "name": "python3"
  },
  "language_info": {
   "codemirror_mode": {
    "name": "ipython",
    "version": 3
   },
   "file_extension": ".py",
   "mimetype": "text/x-python",
   "name": "python",
   "nbconvert_exporter": "python",
   "pygments_lexer": "ipython3",
   "version": "3.10.18"
  }
 },
 "nbformat": 4,
 "nbformat_minor": 5
}
