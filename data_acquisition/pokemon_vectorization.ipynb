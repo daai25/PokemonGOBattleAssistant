{
 "cells": [
  {
   "cell_type": "markdown",
   "id": "ae125daf",
   "metadata": {},
   "source": [
    "# Pokémon GO Battle Rankings Vectorization\n",
    "\n",
    "This notebook transforms the Pokémon GO battle rankings data by converting text-based values (such as move names and Pokémon types) into numeric IDs using dictionary mapping files. This vectorization is useful for machine learning applications and data analysis."
   ]
  },
  {
   "cell_type": "markdown",
   "id": "cff9d8f6",
   "metadata": {},
   "source": [
    "## 1. Import Required Libraries\n",
    "\n",
    "First, we'll import the necessary libraries for our data processing task:"
   ]
  },
  {
   "cell_type": "code",
   "execution_count": 38,
   "id": "8e7769ae",
   "metadata": {},
   "outputs": [],
   "source": [
    "# Import the required libraries\n",
    "import pandas as pd\n",
    "import os"
   ]
  },
  {
   "cell_type": "markdown",
   "id": "5e96aead",
   "metadata": {},
   "source": [
    "## 2. Define File Paths\n",
    "\n",
    "Now we'll set up the paths for our data files and directories:"
   ]
  },
  {
   "cell_type": "code",
   "execution_count": 39,
   "id": "97dcca32",
   "metadata": {},
   "outputs": [
    {
     "name": "stdout",
     "output_type": "stream",
     "text": [
      "Data directory: c:\\Users\\maxva\\Documents\\GitHub\\PokemonGOBattleAssistant\\data_acquisition\n",
      "Dictionary directory: c:\\Users\\maxva\\Documents\\GitHub\\PokemonGOBattleAssistant\\data_acquisition\\dictionarie\n",
      "Processed data directory: c:\\Users\\maxva\\Documents\\GitHub\\PokemonGOBattleAssistant\\data_acquisition\\processed_data\n",
      "Vectorized data directory: c:\\Users\\maxva\\Documents\\GitHub\\PokemonGOBattleAssistant\\data_acquisition\\vectorized_data\n"
     ]
    }
   ],
   "source": [
    "# Define paths\n",
    "data_dir = os.path.dirname(os.path.abspath(\"__file__\"))  # Current directory\n",
    "dict_dir = os.path.join(data_dir, 'dictionarie')\n",
    "processed_dir = os.path.join(data_dir, 'processed_data')\n",
    "vectorized_dir = os.path.join(data_dir, 'vectorized_data')\n",
    "\n",
    "# Print paths to verify\n",
    "print(f\"Data directory: {data_dir}\")\n",
    "print(f\"Dictionary directory: {dict_dir}\")\n",
    "print(f\"Processed data directory: {processed_dir}\")\n",
    "print(f\"Vectorized data directory: {vectorized_dir}\")"
   ]
  },
  {
   "cell_type": "markdown",
   "id": "cfc1321f",
   "metadata": {},
   "source": [
    "## 3. Create Output Directory\n",
    "\n",
    "We'll check if the vectorized_data directory exists and create it if it doesn't:"
   ]
  },
  {
   "cell_type": "code",
   "execution_count": 40,
   "id": "9136b8c3",
   "metadata": {},
   "outputs": [
    {
     "name": "stdout",
     "output_type": "stream",
     "text": [
      "Directory already exists: c:\\Users\\maxva\\Documents\\GitHub\\PokemonGOBattleAssistant\\data_acquisition\\vectorized_data\n"
     ]
    }
   ],
   "source": [
    "# Create vectorized_data directory if it doesn't exist\n",
    "if not os.path.exists(vectorized_dir):\n",
    "    os.makedirs(vectorized_dir)\n",
    "    print(f\"Created directory: {vectorized_dir}\")\n",
    "else:\n",
    "    print(f\"Directory already exists: {vectorized_dir}\")"
   ]
  },
  {
   "cell_type": "markdown",
   "id": "110f1a55",
   "metadata": {},
   "source": [
    "## 4. Load Mapping Dictionaries\n",
    "\n",
    "Now we'll load the CSV files that contain mappings from text values to numeric IDs:"
   ]
  },
  {
   "cell_type": "code",
   "execution_count": 41,
   "id": "3e533300",
   "metadata": {},
   "outputs": [
    {
     "name": "stdout",
     "output_type": "stream",
     "text": [
      "Fast Move Dictionary:\n"
     ]
    },
    {
     "data": {
      "application/vnd.microsoft.datawrangler.viewer.v0+json": {
       "columns": [
        {
         "name": "index",
         "rawType": "int64",
         "type": "integer"
        },
        {
         "name": "Fast_Move",
         "rawType": "object",
         "type": "string"
        },
        {
         "name": "Number",
         "rawType": "int64",
         "type": "integer"
        }
       ],
       "ref": "efeddf78-c1b8-4443-8711-668af6be465f",
       "rows": [
        [
         "0",
         "none",
         "0"
        ],
        [
         "1",
         "Acid",
         "1"
        ],
        [
         "2",
         "Acid†",
         "2"
        ],
        [
         "3",
         "Air Slash",
         "3"
        ],
        [
         "4",
         "Astonish",
         "4"
        ]
       ],
       "shape": {
        "columns": 2,
        "rows": 5
       }
      },
      "text/html": [
       "<div>\n",
       "<style scoped>\n",
       "    .dataframe tbody tr th:only-of-type {\n",
       "        vertical-align: middle;\n",
       "    }\n",
       "\n",
       "    .dataframe tbody tr th {\n",
       "        vertical-align: top;\n",
       "    }\n",
       "\n",
       "    .dataframe thead th {\n",
       "        text-align: right;\n",
       "    }\n",
       "</style>\n",
       "<table border=\"1\" class=\"dataframe\">\n",
       "  <thead>\n",
       "    <tr style=\"text-align: right;\">\n",
       "      <th></th>\n",
       "      <th>Fast_Move</th>\n",
       "      <th>Number</th>\n",
       "    </tr>\n",
       "  </thead>\n",
       "  <tbody>\n",
       "    <tr>\n",
       "      <th>0</th>\n",
       "      <td>none</td>\n",
       "      <td>0</td>\n",
       "    </tr>\n",
       "    <tr>\n",
       "      <th>1</th>\n",
       "      <td>Acid</td>\n",
       "      <td>1</td>\n",
       "    </tr>\n",
       "    <tr>\n",
       "      <th>2</th>\n",
       "      <td>Acid†</td>\n",
       "      <td>2</td>\n",
       "    </tr>\n",
       "    <tr>\n",
       "      <th>3</th>\n",
       "      <td>Air Slash</td>\n",
       "      <td>3</td>\n",
       "    </tr>\n",
       "    <tr>\n",
       "      <th>4</th>\n",
       "      <td>Astonish</td>\n",
       "      <td>4</td>\n",
       "    </tr>\n",
       "  </tbody>\n",
       "</table>\n",
       "</div>"
      ],
      "text/plain": [
       "   Fast_Move  Number\n",
       "0       none       0\n",
       "1       Acid       1\n",
       "2      Acid†       2\n",
       "3  Air Slash       3\n",
       "4   Astonish       4"
      ]
     },
     "metadata": {},
     "output_type": "display_data"
    },
    {
     "name": "stdout",
     "output_type": "stream",
     "text": [
      "\n",
      "Charged Move Dictionary:\n"
     ]
    },
    {
     "data": {
      "application/vnd.microsoft.datawrangler.viewer.v0+json": {
       "columns": [
        {
         "name": "index",
         "rawType": "int64",
         "type": "integer"
        },
        {
         "name": "Charged_Move",
         "rawType": "object",
         "type": "string"
        },
        {
         "name": "Number",
         "rawType": "int64",
         "type": "integer"
        }
       ],
       "ref": "3ae699e2-ddd4-498f-a417-32eda0a77534",
       "rows": [
        [
         "0",
         "none",
         "0"
        ],
        [
         "1",
         "Acid Spray",
         "1"
        ],
        [
         "2",
         "Acrobatics",
         "2"
        ],
        [
         "3",
         "Acrobatics*",
         "3"
        ],
        [
         "4",
         "Aerial Ace",
         "4"
        ]
       ],
       "shape": {
        "columns": 2,
        "rows": 5
       }
      },
      "text/html": [
       "<div>\n",
       "<style scoped>\n",
       "    .dataframe tbody tr th:only-of-type {\n",
       "        vertical-align: middle;\n",
       "    }\n",
       "\n",
       "    .dataframe tbody tr th {\n",
       "        vertical-align: top;\n",
       "    }\n",
       "\n",
       "    .dataframe thead th {\n",
       "        text-align: right;\n",
       "    }\n",
       "</style>\n",
       "<table border=\"1\" class=\"dataframe\">\n",
       "  <thead>\n",
       "    <tr style=\"text-align: right;\">\n",
       "      <th></th>\n",
       "      <th>Charged_Move</th>\n",
       "      <th>Number</th>\n",
       "    </tr>\n",
       "  </thead>\n",
       "  <tbody>\n",
       "    <tr>\n",
       "      <th>0</th>\n",
       "      <td>none</td>\n",
       "      <td>0</td>\n",
       "    </tr>\n",
       "    <tr>\n",
       "      <th>1</th>\n",
       "      <td>Acid Spray</td>\n",
       "      <td>1</td>\n",
       "    </tr>\n",
       "    <tr>\n",
       "      <th>2</th>\n",
       "      <td>Acrobatics</td>\n",
       "      <td>2</td>\n",
       "    </tr>\n",
       "    <tr>\n",
       "      <th>3</th>\n",
       "      <td>Acrobatics*</td>\n",
       "      <td>3</td>\n",
       "    </tr>\n",
       "    <tr>\n",
       "      <th>4</th>\n",
       "      <td>Aerial Ace</td>\n",
       "      <td>4</td>\n",
       "    </tr>\n",
       "  </tbody>\n",
       "</table>\n",
       "</div>"
      ],
      "text/plain": [
       "  Charged_Move  Number\n",
       "0         none       0\n",
       "1   Acid Spray       1\n",
       "2   Acrobatics       2\n",
       "3  Acrobatics*       3\n",
       "4   Aerial Ace       4"
      ]
     },
     "metadata": {},
     "output_type": "display_data"
    },
    {
     "name": "stdout",
     "output_type": "stream",
     "text": [
      "\n",
      "Type Dictionary:\n"
     ]
    },
    {
     "data": {
      "application/vnd.microsoft.datawrangler.viewer.v0+json": {
       "columns": [
        {
         "name": "index",
         "rawType": "int64",
         "type": "integer"
        },
        {
         "name": "Type",
         "rawType": "object",
         "type": "string"
        },
        {
         "name": "Number",
         "rawType": "int64",
         "type": "integer"
        }
       ],
       "ref": "1e81a977-47a1-44c0-8f46-9aa5cba2e584",
       "rows": [
        [
         "0",
         "none",
         "0"
        ],
        [
         "1",
         "bug",
         "1"
        ],
        [
         "2",
         "dark",
         "2"
        ],
        [
         "3",
         "dragon",
         "3"
        ],
        [
         "4",
         "electric",
         "4"
        ]
       ],
       "shape": {
        "columns": 2,
        "rows": 5
       }
      },
      "text/html": [
       "<div>\n",
       "<style scoped>\n",
       "    .dataframe tbody tr th:only-of-type {\n",
       "        vertical-align: middle;\n",
       "    }\n",
       "\n",
       "    .dataframe tbody tr th {\n",
       "        vertical-align: top;\n",
       "    }\n",
       "\n",
       "    .dataframe thead th {\n",
       "        text-align: right;\n",
       "    }\n",
       "</style>\n",
       "<table border=\"1\" class=\"dataframe\">\n",
       "  <thead>\n",
       "    <tr style=\"text-align: right;\">\n",
       "      <th></th>\n",
       "      <th>Type</th>\n",
       "      <th>Number</th>\n",
       "    </tr>\n",
       "  </thead>\n",
       "  <tbody>\n",
       "    <tr>\n",
       "      <th>0</th>\n",
       "      <td>none</td>\n",
       "      <td>0</td>\n",
       "    </tr>\n",
       "    <tr>\n",
       "      <th>1</th>\n",
       "      <td>bug</td>\n",
       "      <td>1</td>\n",
       "    </tr>\n",
       "    <tr>\n",
       "      <th>2</th>\n",
       "      <td>dark</td>\n",
       "      <td>2</td>\n",
       "    </tr>\n",
       "    <tr>\n",
       "      <th>3</th>\n",
       "      <td>dragon</td>\n",
       "      <td>3</td>\n",
       "    </tr>\n",
       "    <tr>\n",
       "      <th>4</th>\n",
       "      <td>electric</td>\n",
       "      <td>4</td>\n",
       "    </tr>\n",
       "  </tbody>\n",
       "</table>\n",
       "</div>"
      ],
      "text/plain": [
       "       Type  Number\n",
       "0      none       0\n",
       "1       bug       1\n",
       "2      dark       2\n",
       "3    dragon       3\n",
       "4  electric       4"
      ]
     },
     "metadata": {},
     "output_type": "display_data"
    }
   ],
   "source": [
    "# Load dictionaries\n",
    "fast_move_dict = pd.read_csv(os.path.join(dict_dir, 'fast_move_to_number.csv'))\n",
    "charged_move_dict = pd.read_csv(os.path.join(dict_dir, 'charged_move_to_number.csv'))\n",
    "type_dict = pd.read_csv(os.path.join(dict_dir, 'type_to_number.csv'))\n",
    "\n",
    "# Display the first few rows of each dictionary\n",
    "print(\"Fast Move Dictionary:\")\n",
    "display(fast_move_dict.head())\n",
    "\n",
    "print(\"\\nCharged Move Dictionary:\")\n",
    "display(charged_move_dict.head())\n",
    "\n",
    "print(\"\\nType Dictionary:\")\n",
    "display(type_dict.head())"
   ]
  },
  {
   "cell_type": "markdown",
   "id": "6ad628ef",
   "metadata": {},
   "source": [
    "## 5. Create Lookup Tables\n",
    "\n",
    "We'll convert the DataFrame dictionaries into Python dictionaries for faster lookups:"
   ]
  },
  {
   "cell_type": "code",
   "execution_count": 42,
   "id": "715356ea",
   "metadata": {},
   "outputs": [
    {
     "name": "stdout",
     "output_type": "stream",
     "text": [
      "Fast Move Lookup Examples:\n",
      "  none -> 0\n",
      "  Acid -> 1\n",
      "  Acid† -> 2\n",
      "  Air Slash -> 3\n",
      "  Astonish -> 4\n",
      "\n",
      "Charged Move Lookup Examples:\n",
      "  none -> 0\n",
      "  Acid Spray -> 1\n",
      "  Acrobatics -> 2\n",
      "  Acrobatics* -> 3\n",
      "  Aerial Ace -> 4\n",
      "\n",
      "Type Lookup Examples:\n",
      "  none -> 0\n",
      "  bug -> 1\n",
      "  dark -> 2\n",
      "  dragon -> 3\n",
      "  electric -> 4\n"
     ]
    }
   ],
   "source": [
    "# Convert dictionaries to lookup tables\n",
    "fast_move_lookup = dict(zip(fast_move_dict['Fast_Move'], fast_move_dict['Number']))\n",
    "charged_move_lookup = dict(zip(charged_move_dict['Charged_Move'], charged_move_dict['Number']))\n",
    "type_lookup = dict(zip(type_dict['Type'], type_dict['Number']))\n",
    "\n",
    "# Show a few examples from each lookup table\n",
    "print(\"Fast Move Lookup Examples:\")\n",
    "for move, number in list(fast_move_lookup.items())[:5]:\n",
    "    print(f\"  {move} -> {number}\")\n",
    "\n",
    "print(\"\\nCharged Move Lookup Examples:\")\n",
    "for move, number in list(charged_move_lookup.items())[:5]:\n",
    "    print(f\"  {move} -> {number}\")\n",
    "\n",
    "print(\"\\nType Lookup Examples:\")\n",
    "for type_name, number in list(type_lookup.items())[:5]:\n",
    "    print(f\"  {type_name} -> {number}\")"
   ]
  },
  {
   "cell_type": "markdown",
   "id": "a3ce38a4",
   "metadata": {},
   "source": [
    "## 6. Load Rankings Data\n",
    "\n",
    "Now we'll load the Pokémon GO battle rankings data that needs to be vectorized:"
   ]
  },
  {
   "cell_type": "code",
   "execution_count": 43,
   "id": "efebaa19",
   "metadata": {},
   "outputs": [
    {
     "name": "stdout",
     "output_type": "stream",
     "text": [
      "Dataset shape: (1046, 18)\n",
      "\n",
      "Data columns:\n",
      "  Pokemon\n",
      "  Score\n",
      "  Dex\n",
      "  Type 1\n",
      "  Type 2\n",
      "  Attack\n",
      "  Defense\n",
      "  Stamina\n",
      "  Stat Product\n",
      "  Level\n",
      "  CP\n",
      "  Fast Move\n",
      "  Charged Move 1\n",
      "  Charged Move 2\n",
      "  Charged Move 1 Count\n",
      "  Charged Move 2 Count\n",
      "  Buddy Distance\n",
      "  Charged Move Cost\n",
      "\n",
      "First few rows of the rankings data:\n"
     ]
    },
    {
     "data": {
      "application/vnd.microsoft.datawrangler.viewer.v0+json": {
       "columns": [
        {
         "name": "index",
         "rawType": "int64",
         "type": "integer"
        },
        {
         "name": "Pokemon",
         "rawType": "object",
         "type": "string"
        },
        {
         "name": "Score",
         "rawType": "float64",
         "type": "float"
        },
        {
         "name": "Dex",
         "rawType": "int64",
         "type": "integer"
        },
        {
         "name": "Type 1",
         "rawType": "object",
         "type": "string"
        },
        {
         "name": "Type 2",
         "rawType": "object",
         "type": "string"
        },
        {
         "name": "Attack",
         "rawType": "float64",
         "type": "float"
        },
        {
         "name": "Defense",
         "rawType": "float64",
         "type": "float"
        },
        {
         "name": "Stamina",
         "rawType": "int64",
         "type": "integer"
        },
        {
         "name": "Stat Product",
         "rawType": "int64",
         "type": "integer"
        },
        {
         "name": "Level",
         "rawType": "float64",
         "type": "float"
        },
        {
         "name": "CP",
         "rawType": "int64",
         "type": "integer"
        },
        {
         "name": "Fast Move",
         "rawType": "object",
         "type": "string"
        },
        {
         "name": "Charged Move 1",
         "rawType": "object",
         "type": "string"
        },
        {
         "name": "Charged Move 2",
         "rawType": "object",
         "type": "string"
        },
        {
         "name": "Charged Move 1 Count",
         "rawType": "int64",
         "type": "integer"
        },
        {
         "name": "Charged Move 2 Count",
         "rawType": "int64",
         "type": "integer"
        },
        {
         "name": "Buddy Distance",
         "rawType": "int64",
         "type": "integer"
        },
        {
         "name": "Charged Move Cost",
         "rawType": "int64",
         "type": "integer"
        }
       ],
       "ref": "5420313a-3ddb-4716-b4fa-8ba5bbc15408",
       "rows": [
        [
         "0",
         "Clodsire",
         "94.4",
         "980",
         "poison",
         "ground",
         "94.2",
         "119.4",
         "209",
         "2352152",
         "29.0",
         "1490",
         "Poison Sting",
         "Sludge Bomb",
         "Earthquake",
         "6",
         "8",
         "3",
         "50000"
        ],
        [
         "1",
         "Diggersby",
         "93.6",
         "660",
         "normal",
         "ground",
         "96.3",
         "141.2",
         "171",
         "2324733",
         "48.0",
         "1496",
         "Quick Attack",
         "Fire Punch",
         "Scorching Sands",
         "5",
         "7",
         "1",
         "10000"
        ],
        [
         "2",
         "Forretress",
         "93.6",
         "205",
         "bug",
         "steel",
         "110.2",
         "141.6",
         "130",
         "2028758",
         "25.0",
         "1496",
         "Bug Bite",
         "Sand Tomb",
         "Rock Tomb",
         "14",
         "17",
         "5",
         "75000"
        ],
        [
         "3",
         "Lapras",
         "92.9",
         "131",
         "water",
         "ice",
         "104.7",
         "114.0",
         "179",
         "2135530",
         "21.5",
         "1497",
         "Psywave",
         "Sparkling Aria",
         "Ice Beam",
         "12",
         "14",
         "5",
         "75000"
        ],
        [
         "4",
         "Jellicent",
         "92.7",
         "593",
         "water",
         "ghost",
         "106.7",
         "124.3",
         "157",
         "2082451",
         "24.0",
         "1490",
         "Hex",
         "Surf",
         "Shadow Ball",
         "4",
         "5",
         "3",
         "50000"
        ]
       ],
       "shape": {
        "columns": 18,
        "rows": 5
       }
      },
      "text/html": [
       "<div>\n",
       "<style scoped>\n",
       "    .dataframe tbody tr th:only-of-type {\n",
       "        vertical-align: middle;\n",
       "    }\n",
       "\n",
       "    .dataframe tbody tr th {\n",
       "        vertical-align: top;\n",
       "    }\n",
       "\n",
       "    .dataframe thead th {\n",
       "        text-align: right;\n",
       "    }\n",
       "</style>\n",
       "<table border=\"1\" class=\"dataframe\">\n",
       "  <thead>\n",
       "    <tr style=\"text-align: right;\">\n",
       "      <th></th>\n",
       "      <th>Pokemon</th>\n",
       "      <th>Score</th>\n",
       "      <th>Dex</th>\n",
       "      <th>Type 1</th>\n",
       "      <th>Type 2</th>\n",
       "      <th>Attack</th>\n",
       "      <th>Defense</th>\n",
       "      <th>Stamina</th>\n",
       "      <th>Stat Product</th>\n",
       "      <th>Level</th>\n",
       "      <th>CP</th>\n",
       "      <th>Fast Move</th>\n",
       "      <th>Charged Move 1</th>\n",
       "      <th>Charged Move 2</th>\n",
       "      <th>Charged Move 1 Count</th>\n",
       "      <th>Charged Move 2 Count</th>\n",
       "      <th>Buddy Distance</th>\n",
       "      <th>Charged Move Cost</th>\n",
       "    </tr>\n",
       "  </thead>\n",
       "  <tbody>\n",
       "    <tr>\n",
       "      <th>0</th>\n",
       "      <td>Clodsire</td>\n",
       "      <td>94.4</td>\n",
       "      <td>980</td>\n",
       "      <td>poison</td>\n",
       "      <td>ground</td>\n",
       "      <td>94.2</td>\n",
       "      <td>119.4</td>\n",
       "      <td>209</td>\n",
       "      <td>2352152</td>\n",
       "      <td>29.0</td>\n",
       "      <td>1490</td>\n",
       "      <td>Poison Sting</td>\n",
       "      <td>Sludge Bomb</td>\n",
       "      <td>Earthquake</td>\n",
       "      <td>6</td>\n",
       "      <td>8</td>\n",
       "      <td>3</td>\n",
       "      <td>50000</td>\n",
       "    </tr>\n",
       "    <tr>\n",
       "      <th>1</th>\n",
       "      <td>Diggersby</td>\n",
       "      <td>93.6</td>\n",
       "      <td>660</td>\n",
       "      <td>normal</td>\n",
       "      <td>ground</td>\n",
       "      <td>96.3</td>\n",
       "      <td>141.2</td>\n",
       "      <td>171</td>\n",
       "      <td>2324733</td>\n",
       "      <td>48.0</td>\n",
       "      <td>1496</td>\n",
       "      <td>Quick Attack</td>\n",
       "      <td>Fire Punch</td>\n",
       "      <td>Scorching Sands</td>\n",
       "      <td>5</td>\n",
       "      <td>7</td>\n",
       "      <td>1</td>\n",
       "      <td>10000</td>\n",
       "    </tr>\n",
       "    <tr>\n",
       "      <th>2</th>\n",
       "      <td>Forretress</td>\n",
       "      <td>93.6</td>\n",
       "      <td>205</td>\n",
       "      <td>bug</td>\n",
       "      <td>steel</td>\n",
       "      <td>110.2</td>\n",
       "      <td>141.6</td>\n",
       "      <td>130</td>\n",
       "      <td>2028758</td>\n",
       "      <td>25.0</td>\n",
       "      <td>1496</td>\n",
       "      <td>Bug Bite</td>\n",
       "      <td>Sand Tomb</td>\n",
       "      <td>Rock Tomb</td>\n",
       "      <td>14</td>\n",
       "      <td>17</td>\n",
       "      <td>5</td>\n",
       "      <td>75000</td>\n",
       "    </tr>\n",
       "    <tr>\n",
       "      <th>3</th>\n",
       "      <td>Lapras</td>\n",
       "      <td>92.9</td>\n",
       "      <td>131</td>\n",
       "      <td>water</td>\n",
       "      <td>ice</td>\n",
       "      <td>104.7</td>\n",
       "      <td>114.0</td>\n",
       "      <td>179</td>\n",
       "      <td>2135530</td>\n",
       "      <td>21.5</td>\n",
       "      <td>1497</td>\n",
       "      <td>Psywave</td>\n",
       "      <td>Sparkling Aria</td>\n",
       "      <td>Ice Beam</td>\n",
       "      <td>12</td>\n",
       "      <td>14</td>\n",
       "      <td>5</td>\n",
       "      <td>75000</td>\n",
       "    </tr>\n",
       "    <tr>\n",
       "      <th>4</th>\n",
       "      <td>Jellicent</td>\n",
       "      <td>92.7</td>\n",
       "      <td>593</td>\n",
       "      <td>water</td>\n",
       "      <td>ghost</td>\n",
       "      <td>106.7</td>\n",
       "      <td>124.3</td>\n",
       "      <td>157</td>\n",
       "      <td>2082451</td>\n",
       "      <td>24.0</td>\n",
       "      <td>1490</td>\n",
       "      <td>Hex</td>\n",
       "      <td>Surf</td>\n",
       "      <td>Shadow Ball</td>\n",
       "      <td>4</td>\n",
       "      <td>5</td>\n",
       "      <td>3</td>\n",
       "      <td>50000</td>\n",
       "    </tr>\n",
       "  </tbody>\n",
       "</table>\n",
       "</div>"
      ],
      "text/plain": [
       "      Pokemon  Score  Dex  Type 1  Type 2  Attack  Defense  Stamina  \\\n",
       "0    Clodsire   94.4  980  poison  ground    94.2    119.4      209   \n",
       "1   Diggersby   93.6  660  normal  ground    96.3    141.2      171   \n",
       "2  Forretress   93.6  205     bug   steel   110.2    141.6      130   \n",
       "3      Lapras   92.9  131   water     ice   104.7    114.0      179   \n",
       "4   Jellicent   92.7  593   water   ghost   106.7    124.3      157   \n",
       "\n",
       "   Stat Product  Level    CP     Fast Move  Charged Move 1   Charged Move 2  \\\n",
       "0       2352152   29.0  1490  Poison Sting     Sludge Bomb       Earthquake   \n",
       "1       2324733   48.0  1496  Quick Attack      Fire Punch  Scorching Sands   \n",
       "2       2028758   25.0  1496      Bug Bite       Sand Tomb        Rock Tomb   \n",
       "3       2135530   21.5  1497       Psywave  Sparkling Aria         Ice Beam   \n",
       "4       2082451   24.0  1490           Hex            Surf      Shadow Ball   \n",
       "\n",
       "   Charged Move 1 Count  Charged Move 2 Count  Buddy Distance  \\\n",
       "0                     6                     8               3   \n",
       "1                     5                     7               1   \n",
       "2                    14                    17               5   \n",
       "3                    12                    14               5   \n",
       "4                     4                     5               3   \n",
       "\n",
       "   Charged Move Cost  \n",
       "0              50000  \n",
       "1              10000  \n",
       "2              75000  \n",
       "3              75000  \n",
       "4              50000  "
      ]
     },
     "metadata": {},
     "output_type": "display_data"
    }
   ],
   "source": [
    "# Load the rankings data\n",
    "rankings_data = pd.read_csv(os.path.join(processed_dir, 'all_overall_rankings.csv'))\n",
    "\n",
    "# Display basic information about the dataset\n",
    "print(f\"Dataset shape: {rankings_data.shape}\")\n",
    "print(\"\\nData columns:\")\n",
    "for col in rankings_data.columns:\n",
    "    print(f\"  {col}\")\n",
    "\n",
    "# Display the first few rows\n",
    "print(\"\\nFirst few rows of the rankings data:\")\n",
    "display(rankings_data.head())"
   ]
  },
  {
   "cell_type": "markdown",
   "id": "f0080e50",
   "metadata": {},
   "source": [
    "## 7. Vectorize Categorical Columns\n",
    "\n",
    "Now we'll replace the text values with their corresponding numeric IDs:"
   ]
  },
  {
   "cell_type": "code",
   "execution_count": 44,
   "id": "e30b16b5",
   "metadata": {},
   "outputs": [
    {
     "name": "stdout",
     "output_type": "stream",
     "text": [
      "First few rows of the vectorized data:\n"
     ]
    },
    {
     "data": {
      "application/vnd.microsoft.datawrangler.viewer.v0+json": {
       "columns": [
        {
         "name": "index",
         "rawType": "int64",
         "type": "integer"
        },
        {
         "name": "Pokemon",
         "rawType": "object",
         "type": "string"
        },
        {
         "name": "Score",
         "rawType": "float64",
         "type": "float"
        },
        {
         "name": "Dex",
         "rawType": "int64",
         "type": "integer"
        },
        {
         "name": "Type 1",
         "rawType": "int64",
         "type": "integer"
        },
        {
         "name": "Type 2",
         "rawType": "int64",
         "type": "integer"
        },
        {
         "name": "Attack",
         "rawType": "float64",
         "type": "float"
        },
        {
         "name": "Defense",
         "rawType": "float64",
         "type": "float"
        },
        {
         "name": "Stamina",
         "rawType": "int64",
         "type": "integer"
        },
        {
         "name": "Stat Product",
         "rawType": "int64",
         "type": "integer"
        },
        {
         "name": "Level",
         "rawType": "float64",
         "type": "float"
        },
        {
         "name": "CP",
         "rawType": "int64",
         "type": "integer"
        },
        {
         "name": "Fast Move",
         "rawType": "int64",
         "type": "integer"
        },
        {
         "name": "Charged Move 1",
         "rawType": "int64",
         "type": "integer"
        },
        {
         "name": "Charged Move 2",
         "rawType": "float64",
         "type": "float"
        },
        {
         "name": "Charged Move 1 Count",
         "rawType": "int64",
         "type": "integer"
        },
        {
         "name": "Charged Move 2 Count",
         "rawType": "int64",
         "type": "integer"
        },
        {
         "name": "Buddy Distance",
         "rawType": "int64",
         "type": "integer"
        },
        {
         "name": "Charged Move Cost",
         "rawType": "int64",
         "type": "integer"
        }
       ],
       "ref": "d0408814-2c30-4be4-af46-07cca3e0c736",
       "rows": [
        [
         "0",
         "Clodsire",
         "94.4",
         "980",
         "14",
         "11",
         "94.2",
         "119.4",
         "209",
         "2352152",
         "29.0",
         "1490",
         "99",
         "245",
         "84.0",
         "6",
         "8",
         "3",
         "50000"
        ],
        [
         "1",
         "Diggersby",
         "93.6",
         "660",
         "13",
         "11",
         "96.3",
         "141.2",
         "171",
         "2324733",
         "48.0",
         "1496",
         "106",
         "92",
         "226.0",
         "5",
         "7",
         "1",
         "10000"
        ],
        [
         "2",
         "Forretress",
         "93.6",
         "205",
         "1",
         "17",
         "110.2",
         "141.6",
         "130",
         "2028758",
         "25.0",
         "1496",
         "8",
         "223",
         "218.0",
         "14",
         "17",
         "5",
         "75000"
        ],
        [
         "3",
         "Lapras",
         "92.9",
         "131",
         "18",
         "12",
         "104.7",
         "114.0",
         "179",
         "2135530",
         "21.5",
         "1497",
         "105",
         "249",
         "131.0",
         "12",
         "14",
         "5",
         "75000"
        ],
        [
         "4",
         "Jellicent",
         "92.7",
         "593",
         "18",
         "9",
         "106.7",
         "124.3",
         "157",
         "2082451",
         "24.0",
         "1490",
         "40",
         "260",
         "230.0",
         "4",
         "5",
         "3",
         "50000"
        ]
       ],
       "shape": {
        "columns": 18,
        "rows": 5
       }
      },
      "text/html": [
       "<div>\n",
       "<style scoped>\n",
       "    .dataframe tbody tr th:only-of-type {\n",
       "        vertical-align: middle;\n",
       "    }\n",
       "\n",
       "    .dataframe tbody tr th {\n",
       "        vertical-align: top;\n",
       "    }\n",
       "\n",
       "    .dataframe thead th {\n",
       "        text-align: right;\n",
       "    }\n",
       "</style>\n",
       "<table border=\"1\" class=\"dataframe\">\n",
       "  <thead>\n",
       "    <tr style=\"text-align: right;\">\n",
       "      <th></th>\n",
       "      <th>Pokemon</th>\n",
       "      <th>Score</th>\n",
       "      <th>Dex</th>\n",
       "      <th>Type 1</th>\n",
       "      <th>Type 2</th>\n",
       "      <th>Attack</th>\n",
       "      <th>Defense</th>\n",
       "      <th>Stamina</th>\n",
       "      <th>Stat Product</th>\n",
       "      <th>Level</th>\n",
       "      <th>CP</th>\n",
       "      <th>Fast Move</th>\n",
       "      <th>Charged Move 1</th>\n",
       "      <th>Charged Move 2</th>\n",
       "      <th>Charged Move 1 Count</th>\n",
       "      <th>Charged Move 2 Count</th>\n",
       "      <th>Buddy Distance</th>\n",
       "      <th>Charged Move Cost</th>\n",
       "    </tr>\n",
       "  </thead>\n",
       "  <tbody>\n",
       "    <tr>\n",
       "      <th>0</th>\n",
       "      <td>Clodsire</td>\n",
       "      <td>94.4</td>\n",
       "      <td>980</td>\n",
       "      <td>14</td>\n",
       "      <td>11</td>\n",
       "      <td>94.2</td>\n",
       "      <td>119.4</td>\n",
       "      <td>209</td>\n",
       "      <td>2352152</td>\n",
       "      <td>29.0</td>\n",
       "      <td>1490</td>\n",
       "      <td>99</td>\n",
       "      <td>245</td>\n",
       "      <td>84.0</td>\n",
       "      <td>6</td>\n",
       "      <td>8</td>\n",
       "      <td>3</td>\n",
       "      <td>50000</td>\n",
       "    </tr>\n",
       "    <tr>\n",
       "      <th>1</th>\n",
       "      <td>Diggersby</td>\n",
       "      <td>93.6</td>\n",
       "      <td>660</td>\n",
       "      <td>13</td>\n",
       "      <td>11</td>\n",
       "      <td>96.3</td>\n",
       "      <td>141.2</td>\n",
       "      <td>171</td>\n",
       "      <td>2324733</td>\n",
       "      <td>48.0</td>\n",
       "      <td>1496</td>\n",
       "      <td>106</td>\n",
       "      <td>92</td>\n",
       "      <td>226.0</td>\n",
       "      <td>5</td>\n",
       "      <td>7</td>\n",
       "      <td>1</td>\n",
       "      <td>10000</td>\n",
       "    </tr>\n",
       "    <tr>\n",
       "      <th>2</th>\n",
       "      <td>Forretress</td>\n",
       "      <td>93.6</td>\n",
       "      <td>205</td>\n",
       "      <td>1</td>\n",
       "      <td>17</td>\n",
       "      <td>110.2</td>\n",
       "      <td>141.6</td>\n",
       "      <td>130</td>\n",
       "      <td>2028758</td>\n",
       "      <td>25.0</td>\n",
       "      <td>1496</td>\n",
       "      <td>8</td>\n",
       "      <td>223</td>\n",
       "      <td>218.0</td>\n",
       "      <td>14</td>\n",
       "      <td>17</td>\n",
       "      <td>5</td>\n",
       "      <td>75000</td>\n",
       "    </tr>\n",
       "    <tr>\n",
       "      <th>3</th>\n",
       "      <td>Lapras</td>\n",
       "      <td>92.9</td>\n",
       "      <td>131</td>\n",
       "      <td>18</td>\n",
       "      <td>12</td>\n",
       "      <td>104.7</td>\n",
       "      <td>114.0</td>\n",
       "      <td>179</td>\n",
       "      <td>2135530</td>\n",
       "      <td>21.5</td>\n",
       "      <td>1497</td>\n",
       "      <td>105</td>\n",
       "      <td>249</td>\n",
       "      <td>131.0</td>\n",
       "      <td>12</td>\n",
       "      <td>14</td>\n",
       "      <td>5</td>\n",
       "      <td>75000</td>\n",
       "    </tr>\n",
       "    <tr>\n",
       "      <th>4</th>\n",
       "      <td>Jellicent</td>\n",
       "      <td>92.7</td>\n",
       "      <td>593</td>\n",
       "      <td>18</td>\n",
       "      <td>9</td>\n",
       "      <td>106.7</td>\n",
       "      <td>124.3</td>\n",
       "      <td>157</td>\n",
       "      <td>2082451</td>\n",
       "      <td>24.0</td>\n",
       "      <td>1490</td>\n",
       "      <td>40</td>\n",
       "      <td>260</td>\n",
       "      <td>230.0</td>\n",
       "      <td>4</td>\n",
       "      <td>5</td>\n",
       "      <td>3</td>\n",
       "      <td>50000</td>\n",
       "    </tr>\n",
       "  </tbody>\n",
       "</table>\n",
       "</div>"
      ],
      "text/plain": [
       "      Pokemon  Score  Dex  Type 1  Type 2  Attack  Defense  Stamina  \\\n",
       "0    Clodsire   94.4  980      14      11    94.2    119.4      209   \n",
       "1   Diggersby   93.6  660      13      11    96.3    141.2      171   \n",
       "2  Forretress   93.6  205       1      17   110.2    141.6      130   \n",
       "3      Lapras   92.9  131      18      12   104.7    114.0      179   \n",
       "4   Jellicent   92.7  593      18       9   106.7    124.3      157   \n",
       "\n",
       "   Stat Product  Level    CP  Fast Move  Charged Move 1  Charged Move 2  \\\n",
       "0       2352152   29.0  1490         99             245            84.0   \n",
       "1       2324733   48.0  1496        106              92           226.0   \n",
       "2       2028758   25.0  1496          8             223           218.0   \n",
       "3       2135530   21.5  1497        105             249           131.0   \n",
       "4       2082451   24.0  1490         40             260           230.0   \n",
       "\n",
       "   Charged Move 1 Count  Charged Move 2 Count  Buddy Distance  \\\n",
       "0                     6                     8               3   \n",
       "1                     5                     7               1   \n",
       "2                    14                    17               5   \n",
       "3                    12                    14               5   \n",
       "4                     4                     5               3   \n",
       "\n",
       "   Charged Move Cost  \n",
       "0              50000  \n",
       "1              10000  \n",
       "2              75000  \n",
       "3              75000  \n",
       "4              50000  "
      ]
     },
     "metadata": {},
     "output_type": "display_data"
    }
   ],
   "source": [
    "# Create a copy for vectorized data\n",
    "vectorized_data = rankings_data.copy()\n",
    "\n",
    "# Replace Fast Move with corresponding number\n",
    "vectorized_data['Fast Move'] = vectorized_data['Fast Move'].map(fast_move_lookup)\n",
    "\n",
    "# Replace Charged Moves with corresponding numbers\n",
    "vectorized_data['Charged Move 1'] = vectorized_data['Charged Move 1'].map(charged_move_lookup)\n",
    "vectorized_data['Charged Move 2'] = vectorized_data['Charged Move 2'].map(charged_move_lookup)\n",
    "\n",
    "# Replace Type 1 and Type 2 with corresponding numbers\n",
    "vectorized_data['Type 1'] = vectorized_data['Type 1'].map(type_lookup)\n",
    "vectorized_data['Type 2'] = vectorized_data['Type 2'].map(type_lookup)\n",
    "\n",
    "# Display the first few rows of the vectorized data\n",
    "print(\"First few rows of the vectorized data:\")\n",
    "display(vectorized_data.head())"
   ]
  },
  {
   "cell_type": "code",
   "execution_count": 45,
   "id": "ff8ee536",
   "metadata": {},
   "outputs": [
    {
     "name": "stdout",
     "output_type": "stream",
     "text": [
      "Checking for missing mappings:\n",
      "  Fast Move: No missing values\n",
      "  Charged Move 1: No missing values\n",
      "  Charged Move 2: 1 missing values\n",
      "  Examples of missing values: [nan]\n",
      "  Type 1: No missing values\n",
      "  Type 2: No missing values\n"
     ]
    }
   ],
   "source": [
    "# Check for any missing mappings (NaN values)\n",
    "print(\"Checking for missing mappings:\")\n",
    "for column in ['Fast Move', 'Charged Move 1', 'Charged Move 2', 'Type 1', 'Type 2']:\n",
    "    missing = vectorized_data[column].isna().sum()\n",
    "    if missing > 0:\n",
    "        print(f\"  {column}: {missing} missing values\")\n",
    "        # Show examples of missing values\n",
    "        missing_values = rankings_data.loc[vectorized_data[column].isna(), column].unique()\n",
    "        print(f\"  Examples of missing values: {missing_values[:5]}\")\n",
    "    else:\n",
    "        print(f\"  {column}: No missing values\")"
   ]
  },
  {
   "cell_type": "markdown",
   "id": "45b42bc5",
   "metadata": {},
   "source": [
    "## 8. Save Vectorized Data\n",
    "\n",
    "Finally, we'll save the vectorized data to a CSV file:"
   ]
  },
  {
   "cell_type": "code",
   "execution_count": 46,
   "id": "624aee11",
   "metadata": {},
   "outputs": [
    {
     "name": "stdout",
     "output_type": "stream",
     "text": [
      "Vectorized data saved to c:\\Users\\maxva\\Documents\\GitHub\\PokemonGOBattleAssistant\\data_acquisition\\vectorized_data\\all_overall_rankings_vectorized.csv\n",
      "File size: 87.70 KB\n",
      "Number of rows: 1046\n"
     ]
    }
   ],
   "source": [
    "# Save the vectorized data\n",
    "output_path = os.path.join(vectorized_dir, 'all_overall_rankings_vectorized.csv')\n",
    "vectorized_data.to_csv(output_path, index=False)\n",
    "\n",
    "print(f\"Vectorized data saved to {output_path}\")\n",
    "\n",
    "# Verify the saved file\n",
    "print(f\"File size: {os.path.getsize(output_path) / 1024:.2f} KB\")\n",
    "print(f\"Number of rows: {len(vectorized_data)}\")"
   ]
  }
 ],
 "metadata": {
  "kernelspec": {
   "display_name": "sample",
   "language": "python",
   "name": "python3"
  },
  "language_info": {
   "codemirror_mode": {
    "name": "ipython",
    "version": 3
   },
   "file_extension": ".py",
   "mimetype": "text/x-python",
   "name": "python",
   "nbconvert_exporter": "python",
   "pygments_lexer": "ipython3",
   "version": "3.10.18"
  }
 },
 "nbformat": 4,
 "nbformat_minor": 5
}
